{
 "cells": [
  {
   "cell_type": "code",
   "execution_count": 1,
   "id": "6f4c17f2",
   "metadata": {
    "_cell_guid": "b1076dfc-b9ad-4769-8c92-a6c4dae69d19",
    "_uuid": "8f2839f25d086af736a60e9eeb907d3b93b6e0e5",
    "execution": {
     "iopub.execute_input": "2024-03-22T18:56:38.436632Z",
     "iopub.status.busy": "2024-03-22T18:56:38.436088Z",
     "iopub.status.idle": "2024-03-22T18:59:15.966246Z",
     "shell.execute_reply": "2024-03-22T18:59:15.965073Z"
    },
    "papermill": {
     "duration": 157.539831,
     "end_time": "2024-03-22T18:59:15.969236",
     "exception": false,
     "start_time": "2024-03-22T18:56:38.429405",
     "status": "completed"
    },
    "tags": []
   },
   "outputs": [
    {
     "name": "stderr",
     "output_type": "stream",
     "text": [
      "2024-03-22 18:56:41.581130: E external/local_xla/xla/stream_executor/cuda/cuda_dnn.cc:9261] Unable to register cuDNN factory: Attempting to register factory for plugin cuDNN when one has already been registered\n",
      "2024-03-22 18:56:41.581290: E external/local_xla/xla/stream_executor/cuda/cuda_fft.cc:607] Unable to register cuFFT factory: Attempting to register factory for plugin cuFFT when one has already been registered\n",
      "2024-03-22 18:56:41.745037: E external/local_xla/xla/stream_executor/cuda/cuda_blas.cc:1515] Unable to register cuBLAS factory: Attempting to register factory for plugin cuBLAS when one has already been registered\n"
     ]
    },
    {
     "name": "stdout",
     "output_type": "stream",
     "text": [
      "Found 81946 validated image filenames belonging to 10 classes.\n",
      "Found 10244 validated image filenames belonging to 10 classes.\n"
     ]
    }
   ],
   "source": [
    "# Import necessary libraries\n",
    "import os\n",
    "import numpy as np\n",
    "import pandas as pd\n",
    "from tensorflow.keras.preprocessing.image import ImageDataGenerator\n",
    "from tensorflow.keras.preprocessing import image\n",
    "\n",
    "# Define directories\n",
    "train_dir = '/kaggle/input/bttai-nybg-2024/BTTAIxNYBG-train/BTTAIxNYBG-train'\n",
    "test_dir = '/kaggle/input/bttai-nybg-2024/BTTAIxNYBG-test/BTTAIxNYBG-test'\n",
    "validation_dir = '/kaggle/input/bttai-nybg-2024/BTTAIxNYBG-validation/BTTAIxNYBG-validation'\n",
    "\n",
    "# Load datasets\n",
    "train_df = pd.read_csv('/kaggle/input/bttai-nybg-2024/BTTAIxNYBG-train.csv')\n",
    "test_df = pd.read_csv('/kaggle/input/bttai-nybg-2024/BTTAIxNYBG-test.csv')\n",
    "validate_df = pd.read_csv('/kaggle/input/bttai-nybg-2024/BTTAIxNYBG-validation.csv')\n",
    "\n",
    "# Data augmentation configuration for training\n",
    "train_datagen = ImageDataGenerator(\n",
    "    rotation_range=40,\n",
    "    width_shift_range=0.2,\n",
    "    height_shift_range=0.2,\n",
    "    shear_range=0.2,\n",
    "    zoom_range=0.2,\n",
    "    horizontal_flip=True,\n",
    "    fill_mode='nearest',\n",
    "    rescale=1./255\n",
    ")\n",
    "\n",
    "# Note: No augmentation for validation and test data, only rescaling\n",
    "validation_datagen = ImageDataGenerator(rescale=1./255)\n",
    "test_datagen = ImageDataGenerator(rescale=1./255)\n",
    "\n",
    "# Convert dataframe to a format suitable for the model training\n",
    "def df_to_dataset(dataframe, datagen, directory, batch_size=32):\n",
    "    return datagen.flow_from_dataframe(\n",
    "        dataframe=dataframe,\n",
    "        directory=directory,\n",
    "        x_col='imageFile',  # Column in dataframe that contains the filenames\n",
    "        y_col='classLabel',  # Column in dataframe that contains the class/label\n",
    "        target_size=(224, 224),\n",
    "        batch_size=batch_size,\n",
    "        class_mode='categorical'  # Change this if not a multiclass classification\n",
    "    )\n",
    "# Create datasets for training, validation, and testing\n",
    "train_dataset = df_to_dataset(train_df, train_datagen, train_dir)\n",
    "validation_dataset = df_to_dataset(validate_df, validation_datagen, validation_dir)\n",
    "\n",
    "# This setup is now ready for training with model.fit using the train_dataset and validation_dataset\n"
   ]
  },
  {
   "cell_type": "code",
   "execution_count": 2,
   "id": "947d142a",
   "metadata": {
    "execution": {
     "iopub.execute_input": "2024-03-22T18:59:15.979736Z",
     "iopub.status.busy": "2024-03-22T18:59:15.979282Z",
     "iopub.status.idle": "2024-03-22T18:59:18.567624Z",
     "shell.execute_reply": "2024-03-22T18:59:18.566350Z"
    },
    "papermill": {
     "duration": 2.597332,
     "end_time": "2024-03-22T18:59:18.571049",
     "exception": false,
     "start_time": "2024-03-22T18:59:15.973717",
     "status": "completed"
    },
    "tags": []
   },
   "outputs": [
    {
     "name": "stdout",
     "output_type": "stream",
     "text": [
      "Downloading data from https://storage.googleapis.com/tensorflow/keras-applications/mobilenet_v2/mobilenet_v2_weights_tf_dim_ordering_tf_kernels_1.0_224_no_top.h5\n",
      "\u001b[1m9406464/9406464\u001b[0m \u001b[32m━━━━━━━━━━━━━━━━━━━━\u001b[0m\u001b[37m\u001b[0m \u001b[1m1s\u001b[0m 0us/step\n"
     ]
    }
   ],
   "source": [
    "import tensorflow as tf\n",
    "from tensorflow.keras.models import Sequential\n",
    "from tensorflow.keras.layers import Dense\n",
    "from tensorflow.keras.optimizers import Adam\n",
    "from tensorflow.keras.applications import MobileNetV2\n",
    "\n",
    "# load MobileNetV2 model, pretrained on ImageNet, without top layer\n",
    "base_model = MobileNetV2(weights='imagenet', include_top=False, input_shape=(224, 224, 3))\n",
    "\n",
    "# freeze base model\n",
    "base_model.trainable = False\n",
    "\n",
    "\n",
    "model = Sequential([\n",
    "    base_model,\n",
    "    # Convert features to vectors\n",
    "    tf.keras.layers.GlobalAveragePooling2D(),\n",
    "    # Add a dense layer for classification\n",
    "    Dense(1024, activation='relu'),\n",
    "    # Final layer with softmax activation for multi-class classification\n",
    "    Dense(10, activation='softmax')\n",
    "])\n",
    "\n",
    "\n",
    "model.compile(optimizer=Adam(learning_rate=0.001), loss='categorical_crossentropy', metrics=['accuracy'])"
   ]
  },
  {
   "cell_type": "code",
   "execution_count": 3,
   "id": "48084969",
   "metadata": {
    "execution": {
     "iopub.execute_input": "2024-03-22T18:59:18.585467Z",
     "iopub.status.busy": "2024-03-22T18:59:18.585026Z",
     "iopub.status.idle": "2024-03-22T22:06:53.394707Z",
     "shell.execute_reply": "2024-03-22T22:06:53.390790Z"
    },
    "papermill": {
     "duration": 11254.823186,
     "end_time": "2024-03-22T22:06:53.400401",
     "exception": false,
     "start_time": "2024-03-22T18:59:18.577215",
     "status": "completed"
    },
    "tags": []
   },
   "outputs": [
    {
     "name": "stdout",
     "output_type": "stream",
     "text": [
      "Epoch 1/3\n"
     ]
    },
    {
     "name": "stderr",
     "output_type": "stream",
     "text": [
      "/opt/conda/lib/python3.10/site-packages/keras/src/trainers/data_adapters/py_dataset_adapter.py:122: UserWarning: Your `PyDataset` class should call `super().__init__(**kwargs)` in its constructor. `**kwargs` can include `workers`, `use_multiprocessing`, `max_queue_size`. Do not pass these arguments to `fit()`, as they will be ignored.\n",
      "  self._warn_if_super_not_called()\n"
     ]
    },
    {
     "name": "stdout",
     "output_type": "stream",
     "text": [
      "\u001b[1m2561/2561\u001b[0m \u001b[32m━━━━━━━━━━━━━━━━━━━━\u001b[0m\u001b[37m\u001b[0m \u001b[1m3713s\u001b[0m 1s/step - accuracy: 0.8580 - loss: 0.4160 - val_accuracy: 0.8945 - val_loss: 0.3031\n",
      "Epoch 2/3\n",
      "\u001b[1m2561/2561\u001b[0m \u001b[32m━━━━━━━━━━━━━━━━━━━━\u001b[0m\u001b[37m\u001b[0m \u001b[1m3799s\u001b[0m 1s/step - accuracy: 0.9184 - loss: 0.2268 - val_accuracy: 0.9082 - val_loss: 0.2571\n",
      "Epoch 3/3\n",
      "\u001b[1m2561/2561\u001b[0m \u001b[32m━━━━━━━━━━━━━━━━━━━━\u001b[0m\u001b[37m\u001b[0m \u001b[1m3686s\u001b[0m 1s/step - accuracy: 0.9273 - loss: 0.2016 - val_accuracy: 0.9206 - val_loss: 0.2322\n",
      "Restoring model weights from the end of the best epoch: 3.\n"
     ]
    }
   ],
   "source": [
    "from tensorflow.keras.callbacks import EarlyStopping, ModelCheckpoint\n",
    "\n",
    "\n",
    "callbacks = [\n",
    "    EarlyStopping(monitor='val_loss', patience=5, verbose=1, restore_best_weights=True),\n",
    "    ModelCheckpoint('best_model.h5.keras', monitor='val_loss', save_best_only=True)\n",
    "]\n",
    "\n",
    "\n",
    "history = model.fit(\n",
    "    train_dataset,\n",
    "    validation_data=validation_dataset,\n",
    "    epochs=3,\n",
    "    callbacks=callbacks\n",
    ")"
   ]
  },
  {
   "cell_type": "code",
   "execution_count": 4,
   "id": "a2410143",
   "metadata": {
    "execution": {
     "iopub.execute_input": "2024-03-22T22:06:55.137446Z",
     "iopub.status.busy": "2024-03-22T22:06:55.135901Z",
     "iopub.status.idle": "2024-03-22T22:11:46.101950Z",
     "shell.execute_reply": "2024-03-22T22:11:46.100674Z"
    },
    "papermill": {
     "duration": 291.824576,
     "end_time": "2024-03-22T22:11:46.104496",
     "exception": false,
     "start_time": "2024-03-22T22:06:54.279920",
     "status": "completed"
    },
    "tags": []
   },
   "outputs": [
    {
     "name": "stdout",
     "output_type": "stream",
     "text": [
      "\u001b[1m321/321\u001b[0m \u001b[32m━━━━━━━━━━━━━━━━━━━━\u001b[0m\u001b[37m\u001b[0m \u001b[1m290s\u001b[0m 899ms/step - accuracy: 0.9171 - loss: 0.2290\n",
      "Validation Loss: 0.2287425845861435\n",
      "Validation Accuracy: 0.9206364750862122\n"
     ]
    }
   ],
   "source": [
    "validation_loss, validation_accuracy = model.evaluate(validation_dataset)\n",
    "print(f'Validation Loss: {validation_loss}')\n",
    "print(f'Validation Accuracy: {validation_accuracy}')"
   ]
  },
  {
   "cell_type": "code",
   "execution_count": 5,
   "id": "86b9db27",
   "metadata": {
    "execution": {
     "iopub.execute_input": "2024-03-22T22:11:47.690068Z",
     "iopub.status.busy": "2024-03-22T22:11:47.689305Z",
     "iopub.status.idle": "2024-03-22T22:12:40.314318Z",
     "shell.execute_reply": "2024-03-22T22:12:40.312898Z"
    },
    "papermill": {
     "duration": 54.141878,
     "end_time": "2024-03-22T22:12:41.033469",
     "exception": false,
     "start_time": "2024-03-22T22:11:46.891591",
     "status": "completed"
    },
    "tags": []
   },
   "outputs": [
    {
     "name": "stdout",
     "output_type": "stream",
     "text": [
      "Found 30690 validated image filenames.\n"
     ]
    }
   ],
   "source": [
    "test_dataset = test_datagen.flow_from_dataframe(\n",
    "    dataframe=test_df,\n",
    "    directory=test_dir,\n",
    "    x_col='imageFile',  \n",
    "    target_size=(224, 224),\n",
    "    batch_size=32,\n",
    "    class_mode=None,  \n",
    "    shuffle=False\n",
    ")"
   ]
  },
  {
   "cell_type": "code",
   "execution_count": 6,
   "id": "31777dab",
   "metadata": {
    "execution": {
     "iopub.execute_input": "2024-03-22T22:12:42.708377Z",
     "iopub.status.busy": "2024-03-22T22:12:42.707917Z",
     "iopub.status.idle": "2024-03-22T22:27:09.333785Z",
     "shell.execute_reply": "2024-03-22T22:27:09.332491Z"
    },
    "papermill": {
     "duration": 867.413982,
     "end_time": "2024-03-22T22:27:09.337120",
     "exception": false,
     "start_time": "2024-03-22T22:12:41.923138",
     "status": "completed"
    },
    "tags": []
   },
   "outputs": [
    {
     "name": "stdout",
     "output_type": "stream",
     "text": [
      "\u001b[1m960/960\u001b[0m \u001b[32m━━━━━━━━━━━━━━━━━━━━\u001b[0m\u001b[37m\u001b[0m \u001b[1m866s\u001b[0m 900ms/step\n"
     ]
    }
   ],
   "source": [
    "predictions = model.predict(test_dataset)\n",
    "predicted_class_indices = np.argmax(predictions, axis=1)"
   ]
  },
  {
   "cell_type": "code",
   "execution_count": 7,
   "id": "1d15d807",
   "metadata": {
    "execution": {
     "iopub.execute_input": "2024-03-22T22:27:11.104938Z",
     "iopub.status.busy": "2024-03-22T22:27:11.104071Z",
     "iopub.status.idle": "2024-03-22T22:27:11.192536Z",
     "shell.execute_reply": "2024-03-22T22:27:11.191152Z"
    },
    "papermill": {
     "duration": 0.970356,
     "end_time": "2024-03-22T22:27:11.195650",
     "exception": false,
     "start_time": "2024-03-22T22:27:10.225294",
     "status": "completed"
    },
    "tags": []
   },
   "outputs": [],
   "source": [
    "labels = (train_dataset.class_indices)\n",
    "labels = dict((v,k) for k,v in labels.items())\n",
    "predicted_class_ids = [labels[v] for v in predicted_class_indices]\n",
    "\n",
    "submission_df = pd.DataFrame({'uniqueID': test_df['uniqueID'], 'classID': predicted_class_indices})\n",
    "submission_df.to_csv('submission.csv', index=False)"
   ]
  }
 ],
 "metadata": {
  "kaggle": {
   "accelerator": "none",
   "dataSources": [
    {
     "databundleVersionId": 7522884,
     "sourceId": 66199,
     "sourceType": "competition"
    }
   ],
   "dockerImageVersionId": 30664,
   "isGpuEnabled": false,
   "isInternetEnabled": true,
   "language": "python",
   "sourceType": "notebook"
  },
  "kernelspec": {
   "display_name": "Python 3",
   "language": "python",
   "name": "python3"
  },
  "language_info": {
   "codemirror_mode": {
    "name": "ipython",
    "version": 3
   },
   "file_extension": ".py",
   "mimetype": "text/x-python",
   "name": "python",
   "nbconvert_exporter": "python",
   "pygments_lexer": "ipython3",
   "version": "3.10.13"
  },
  "papermill": {
   "default_parameters": {},
   "duration": 12639.580039,
   "end_time": "2024-03-22T22:27:14.845409",
   "environment_variables": {},
   "exception": null,
   "input_path": "__notebook__.ipynb",
   "output_path": "__notebook__.ipynb",
   "parameters": {},
   "start_time": "2024-03-22T18:56:35.265370",
   "version": "2.5.0"
  }
 },
 "nbformat": 4,
 "nbformat_minor": 5
}
